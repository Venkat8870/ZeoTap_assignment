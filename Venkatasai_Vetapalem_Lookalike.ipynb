{
  "cells": [
    {
      "cell_type": "code",
      "execution_count": 3,
      "metadata": {
        "colab": {
          "base_uri": "https://localhost:8080/"
        },
        "id": "b8VMuiaFi5lr",
        "outputId": "29f53f6b-650b-4bcc-eaeb-cc6a07b7de23"
      },
      "outputs": [
        {
          "name": "stdout",
          "output_type": "stream",
          "text": [
            "Columns in merged_data: Index(['TransactionID', 'CustomerID', 'ProductID', 'TransactionDate',\n",
            "       'Quantity', 'TotalValue', 'Price_x', 'CustomerName', 'Region',\n",
            "       'SignupDate', 'ProductName', 'Category', 'Price_y'],\n",
            "      dtype='object')\n",
            "Column 'Price' not found. Adjusting aggregation logic...\n",
            "Customer Features:\n",
            "   CustomerID  TotalValue  Quantity         Region\n",
            "0      C0001     3354.52        12  South America\n",
            "1      C0002     1862.74        10           Asia\n",
            "2      C0003     2725.38        14  South America\n",
            "3      C0004     5354.88        23  South America\n",
            "4      C0005     2034.24         7           Asia\n",
            "Lookalike Results:\n",
            "   CustomerID                                     Lookalikes\n",
            "0      C0001     [(C0107, 1.0), (C0137, 1.0), (C0184, 1.0)]\n",
            "1      C0002   [(C0088, 1.0), (C0142, 0.99), (C0159, 0.97)]\n",
            "2      C0003    [(C0147, 1.0), (C0190, 1.0), (C0174, 0.98)]\n",
            "3      C0004  [(C0113, 0.99), (C0102, 0.98), (C0169, 0.98)]\n",
            "4      C0005    [(C0186, 1.0), (C0159, 1.0), (C0140, 0.99)]\n"
          ]
        }
      ],
      "source": [
        "import pandas as pd\n",
        "from sklearn.metrics.pairwise import cosine_similarity\n",
        "from sklearn.preprocessing import StandardScaler\n",
        "\n",
        "# Load data\n",
        "customers = pd.read_csv(\"Customers.csv\")\n",
        "transactions = pd.read_csv(\"Transactions.csv\")\n",
        "products = pd.read_csv(\"Products.csv\")\n",
        "\n",
        "# Merge data\n",
        "merged_data = pd.merge(transactions, customers, on=\"CustomerID\")\n",
        "merged_data = pd.merge(merged_data, products, on=\"ProductID\", how=\"left\") \n",
        "\n",
        "print(\"Columns in merged_data:\", merged_data.columns)\n",
        "\n",
        "\n",
        "if 'Price' in merged_data.columns:\n",
        "    agg_dict = {\n",
        "        'TotalValue': 'sum',\n",
        "        'Quantity': 'sum',\n",
        "        'Price': 'mean',\n",
        "        'Region': 'first',\n",
        "    }\n",
        "else:\n",
        "    print(\"Column 'Price' not found. Adjusting aggregation logic...\")\n",
        "    agg_dict = {\n",
        "        'TotalValue': 'sum',\n",
        "        'Quantity': 'sum',\n",
        "        'Region': 'first',\n",
        "    }\n",
        "\n",
        "customer_features = merged_data.groupby('CustomerID').agg(agg_dict).reset_index()\n",
        "\n",
        "print(\"Customer Features:\\n\", customer_features.head())\n",
        "\n",
        "if 'Region' in customer_features.columns:\n",
        "    customer_features = pd.get_dummies(customer_features, columns=['Region'], drop_first=True)\n",
        "\n",
        "scaler = StandardScaler()\n",
        "numeric_features = customer_features.iloc[:, 1:]\n",
        "normalized_features = scaler.fit_transform(numeric_features)\n",
        "\n",
        "similarity_matrix = cosine_similarity(normalized_features)\n",
        "\n",
        "def get_top_lookalikes(customer_index, top_n=3):\n",
        "    \"\"\"Find the top N lookalike customers for a given customer index.\"\"\"\n",
        "    similarity_scores = similarity_matrix[customer_index]\n",
        "    top_indices = similarity_scores.argsort()[::-1][1:top_n+1]\n",
        "    return [(customer_features.iloc[i]['CustomerID'], round(similarity_scores[i], 2)) for i in top_indices]\n",
        "\n",
        "lookalike_results = {}\n",
        "for idx in range(min(20, len(customer_features))):\n",
        "    customer_id = customer_features.iloc[idx]['CustomerID']\n",
        "    lookalike_results[customer_id] = get_top_lookalikes(idx)\n",
        "\n",
        "lookalike_df = pd.DataFrame([\n",
        "    {\"CustomerID\": cust_id, \"Lookalikes\": lookalikes}\n",
        "    for cust_id, lookalikes in lookalike_results.items()\n",
        "])\n",
        "lookalike_df.to_csv(\"Lookalike.csv\", index=False)\n",
        "\n",
        "print(\"Lookalike Results:\\n\", lookalike_df.head())\n"
      ]
    }
  ],
  "metadata": {
    "colab": {
      "provenance": []
    },
    "kernelspec": {
      "display_name": "Python 3",
      "name": "python3"
    },
    "language_info": {
      "name": "python"
    }
  },
  "nbformat": 4,
  "nbformat_minor": 0
}
